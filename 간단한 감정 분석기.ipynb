{
 "cells": [
  {
   "cell_type": "code",
   "execution_count": 1,
   "id": "03f7e3a0",
   "metadata": {},
   "outputs": [
    {
     "name": "stdout",
     "output_type": "stream",
     "text": [
      "예측 결과: 긍정\n"
     ]
    }
   ],
   "source": [
    "from sklearn.feature_extraction.text import CountVectorizer\n",
    "from sklearn.naive_bayes import MultinomialNB\n",
    "\n",
    "texts = [\n",
    "    \"이 영화 너무 재밌다\",\n",
    "    \"최고의 영화였어\",\n",
    "    \"정말 감동적인 작품이야\",\n",
    "    \"별로였어\",\n",
    "    \"시간 아까웠다\",\n",
    "    \"완전 최악이야\",\n",
    "    \"진짜 재밌고 또 보고 싶다\",\n",
    "    \"보는 내내 웃음이 끊이지 않았어\",\n",
    "    \"스토리도 연기도 엉망진창\",\n",
    "    \"돈 주고 보긴 아까운 영화\"\n",
    "]\n",
    "\n",
    "labels = [\"긍정\", \"긍정\", \"긍정\", \"부정\", \"부정\", \"부정\", \"긍정\", \"긍정\", \"부정\", \"부정\"]\n",
    "\n",
    "vectorizer = CountVectorizer()\n",
    "x = vectorizer.fit_transform(texts)\n",
    "\n",
    "model = MultinomialNB()\n",
    "model.fit(x, labels)\n",
    "\n",
    "test_text = [\"이 영화 완전 감동적인 작품이야\"] \n",
    "test_vec = vectorizer.transform(test_text)\n",
    "prediction = model.predict(test_vec)\n",
    "\n",
    "print(\"예측 결과:\", prediction[0])"
   ]
  }
 ],
 "metadata": {
  "kernelspec": {
   "display_name": "Python 3",
   "language": "python",
   "name": "python3"
  },
  "language_info": {
   "codemirror_mode": {
    "name": "ipython",
    "version": 3
   },
   "file_extension": ".py",
   "mimetype": "text/x-python",
   "name": "python",
   "nbconvert_exporter": "python",
   "pygments_lexer": "ipython3",
   "version": "3.12.2"
  }
 },
 "nbformat": 4,
 "nbformat_minor": 5
}
