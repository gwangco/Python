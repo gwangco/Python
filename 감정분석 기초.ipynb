{
 "cells": [
  {
   "cell_type": "code",
   "execution_count": null,
   "id": "03f7e3a0",
   "metadata": {},
   "outputs": [
    {
     "name": "stdout",
     "output_type": "stream",
     "text": [
      "예측 결과: ['부정' '긍정' '부정']\n"
     ]
    }
   ],
   "source": [
    "from sklearn.feature_extraction.text import CountVectorizer\n",
    "from sklearn.naive_bayes import MultinomialNB\n",
    "\n",
    "texts = [\n",
    "    \"이 영화 너무 재밌다\",\n",
    "    \"최고의 영화였어\",\n",
    "    \"정말 감동적인 작품이야\",\n",
    "    \"별로였어\",\n",
    "    \"시간 아까웠다\",\n",
    "    \"완전 최악이야\",\n",
    "    \"진짜 재밌고 또 보고 싶다\",\n",
    "    \"보는 내내 웃음이 끊이지 않았어\",\n",
    "    \"스토리도 연기도 엉망진창\",\n",
    "    \"돈 주고 보긴 아까운 영화\"\n",
    "]\n",
    "\n",
    "labels = [\"긍정\", \"긍정\", \"긍정\", \"부정\", \"부정\", \"부정\", \"긍정\", \"긍정\", \"부정\", \"부정\"]\n",
    "\n",
    "vectorizer = CountVectorizer()\n",
    "x = vectorizer.fit_transform(texts)\n",
    "\n",
    "model = MultinomialNB()\n",
    "model.fit(x, labels)\n",
    "\n",
    "test_text = [\"완전 최악\",\"영화 너무 재밌다\",\"시간 너무 아까운데\"] \n",
    "test_vec = vectorizer.transform(test_text)\n",
    "prediction = model.predict(test_vec)\n",
    "\n",
    "print(\"예측 결과:\", prediction)"
   ]
  },
  {
   "cell_type": "code",
   "execution_count": 3,
   "id": "bee0fa4b",
   "metadata": {},
   "outputs": [
    {
     "name": "stdout",
     "output_type": "stream",
     "text": [
      "특성 개수 (min_df=2): 1\n",
      "특성 개수 (max_df=0.5): 28\n",
      "특성 개수 (stop_words): 24\n"
     ]
    }
   ],
   "source": [
    "from sklearn.feature_extraction.text import CountVectorizer\n",
    "from sklearn.naive_bayes import MultinomialNB\n",
    "\n",
    "texts = [\n",
    "    \"이 영화 너무 재밌다\",\n",
    "    \"최고의 영화였어\",\n",
    "    \"정말 감동적인 작품이야\",\n",
    "    \"별로였어\",\n",
    "    \"시간 아까웠다\",\n",
    "    \"완전 최악이야\",\n",
    "    \"진짜 재밌고 또 보고 싶다\",\n",
    "    \"보는 내내 웃음이 끊이지 않았어\",\n",
    "    \"스토리도 연기도 엉망진창\",\n",
    "    \"돈 주고 보긴 아까운 영화\"\n",
    "]\n",
    "labels = [\"긍정\", \"긍정\", \"긍정\", \"부정\", \"부정\", \"부정\", \"긍정\", \"긍정\", \"부정\", \"부정\"]\n",
    "\n",
    "# min_df: 최소 문서 빈도 (단어가 최소 2번 이상 등장한 문서에서만 고려)\n",
    "vectorizer_min_df = CountVectorizer(min_df=2)\n",
    "x_min_df = vectorizer_min_df.fit_transform(texts)\n",
    "print(\"특성 개수 (min_df=2):\", x_min_df.shape[1])\n",
    "\n",
    "# max_df: 최대 문서 빈도 (단어가 전체 문서의 50% 이상에서 등장하면 무시)\n",
    "vectorizer_max_df = CountVectorizer(max_df=0.5)\n",
    "x_max_df = vectorizer_max_df.fit_transform(texts)\n",
    "print(\"특성 개수 (max_df=0.5):\", x_max_df.shape[1])\n",
    "\n",
    "# stop_words: 불용어 제거 (예시)\n",
    "stop_words_kor = [\"이\", \"너무\", \"정말\", \"또\", \"내내\", \"주고\"]\n",
    "vectorizer_stopwords = CountVectorizer(stop_words=stop_words_kor)\n",
    "x_stopwords = vectorizer_stopwords.fit_transform(texts)\n",
    "print(\"특성 개수 (stop_words):\", x_stopwords.shape[1])"
   ]
  },
  {
   "cell_type": "code",
   "execution_count": 1,
   "id": "3bb72cae",
   "metadata": {},
   "outputs": [
    {
     "name": "stdout",
     "output_type": "stream",
     "text": [
      "MultinomialNB 정확도: 0.33\n",
      "Logistic Regression 정확도: 0.33\n",
      "Linear SVC 정확도: 0.67\n"
     ]
    }
   ],
   "source": [
    "from sklearn.feature_extraction.text import CountVectorizer\n",
    "from sklearn.naive_bayes import MultinomialNB\n",
    "from sklearn.linear_model import LogisticRegression\n",
    "from sklearn.svm import LinearSVC\n",
    "from sklearn.model_selection import train_test_split\n",
    "from sklearn.metrics import accuracy_score\n",
    "\n",
    "texts = [\n",
    "    \"이 영화 너무 재밌다\",\n",
    "    \"최고의 영화였어\",\n",
    "    \"정말 감동적인 작품이야\",\n",
    "    \"별로였어\",\n",
    "    \"시간 아까웠다\",\n",
    "    \"완전 최악이야\",\n",
    "    \"진짜 재밌고 또 보고 싶다\",\n",
    "    \"보는 내내 웃음이 끊이지 않았어\",\n",
    "    \"스토리도 연기도 엉망진창\",\n",
    "    \"돈 주고 보긴 아까운 영화\"\n",
    "]\n",
    "labels = [\"긍정\", \"긍정\", \"긍정\", \"부정\", \"부정\", \"부정\", \"긍정\", \"긍정\", \"부정\", \"부정\"]\n",
    "\n",
    "# 데이터 분리 (학습 데이터와 테스트 데이터)\n",
    "train_texts, test_texts, train_labels, test_labels = train_test_split(texts, labels, test_size=0.3, random_state=42)\n",
    "\n",
    "vectorizer = CountVectorizer()\n",
    "x_train = vectorizer.fit_transform(train_texts)\n",
    "x_test = vectorizer.transform(test_texts)\n",
    "\n",
    "# 다양한 모델 학습 및 평가\n",
    "models = {\n",
    "    \"MultinomialNB\": MultinomialNB(),\n",
    "    \"Logistic Regression\": LogisticRegression(),\n",
    "    \"Linear SVC\": LinearSVC()\n",
    "}\n",
    "\n",
    "for name, model in models.items():\n",
    "    model.fit(x_train, train_labels)\n",
    "    predictions = model.predict(x_test)\n",
    "    accuracy = accuracy_score(test_labels, predictions)\n",
    "    print(f\"{name} 정확도: {accuracy:.2f}\")"
   ]
  }
 ],
 "metadata": {
  "kernelspec": {
   "display_name": "Python 3",
   "language": "python",
   "name": "python3"
  },
  "language_info": {
   "codemirror_mode": {
    "name": "ipython",
    "version": 3
   },
   "file_extension": ".py",
   "mimetype": "text/x-python",
   "name": "python",
   "nbconvert_exporter": "python",
   "pygments_lexer": "ipython3",
   "version": "3.12.2"
  }
 },
 "nbformat": 4,
 "nbformat_minor": 5
}
