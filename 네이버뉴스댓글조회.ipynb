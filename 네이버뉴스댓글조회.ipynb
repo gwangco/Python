{
 "cells": [
  {
   "cell_type": "code",
   "execution_count": 1,
   "id": "7272a6f6",
   "metadata": {},
   "outputs": [
    {
     "name": "stdout",
     "output_type": "stream",
     "text": [
      "✅ 댓글 수집 결과:\n",
      "1. 기상청은 오늘 날씨도 못맞추네.... 날씨 중계하나..ㅡㅡ\n",
      "2. 구라청... 슈퍼컴퓨터다 뭐다 혈세 겁나 퍼다쓰면서도... 날씨조차 비슷하게 맞추지도 못하고... 진짜 감사한번 해야함... 차라리 할머니 무릎이 더 정확하겠다...\n",
      "3. 오전에 그친다며!!!\n",
      "4. 정권바뀌면 기상청도 특검좀 해야지?\n",
      "5. ㅋㅋㅋㅋㅋㅋㅋㅋㅋ 구라청인 줄 알지만 해도 너무하네 다음 정권에서는 어떻게 좀 해봐라\n",
      "6. 기상청, 참 못한다. 공공기관장 지원해서 퇴직 공직자나 용산에서 찍은 사람 등에게 서류, 면접, 신원조회 통과한 최종후보자 단계에서 여러차례 밀렸었는데 내가 기상청 가면 지금 시스템 하에서 정신과 비전, 업무수행 체계를 싹 다 바꾸고 싶다. 도대체 이게 뭐냐. 해외 기상예보업체 보다도 못한 이유를 아직도 모르냐.\n",
      "7. 오늘 비조금온다고 오후 개일거라고 구라청 이건뭐 홍수난것같으니\n",
      "8. 정말 맨날 못맟추니... 우리 스케줄 어쩔거야\n",
      "9. 기상청에서 오늘 중부지방은 소나기 온다하더니 폭우가 쏟아지네ㅡㅡ\n",
      "10. 벌써 호우경보... 올 여름 또 어떤재난이 닥칠지.. 기후위기 심각하네...\n",
      "11. 동작대교남단,초입에 빗물엄청고였었는데 안전운전 하세요\n",
      "12. 강철아 비좀 멈춰죠\n",
      "13. 장만가..\n",
      "14. 장마 ..이제 비가 안올수도 빗물저장 많이해라 진짜다\n",
      "15. 여름이 시작되는건지 . 반가운 비 . 넘 험하게는 오지말길 ..\n",
      "16. 문수형 오늘은 어디가서 뻘짓하고있나 또 지하철갔니\n",
      "✅ 댓글이 'naver_news_comments.csv'에 저장되었습니다.\n"
     ]
    }
   ],
   "source": [
    "from selenium import webdriver\n",
    "from selenium.webdriver.chrome.options import Options\n",
    "from selenium.webdriver.chrome.service import Service\n",
    "from selenium.webdriver.common.by import By\n",
    "from selenium.webdriver.support.ui import WebDriverWait\n",
    "from selenium.webdriver.support import expected_conditions as EC\n",
    "from webdriver_manager.chrome import ChromeDriverManager\n",
    "import time\n",
    "import pandas as pd\n",
    "\n",
    "options = webdriver.ChromeOptions()\n",
    "options.add_argument('--headless')\n",
    "options.add_argument('--no-sandbox')\n",
    "options.add_argument('--disable-dev-shm-usage')\n",
    "\n",
    "driver = webdriver.Chrome(service=Service(ChromeDriverManager().install()), options=options)\n",
    "\n",
    "# 2. 기사 URL\n",
    "url = input(\"네이버 뉴스 기사 URL을 입력하세요: \")\n",
    "driver.get(url)\n",
    "time.sleep(3)  # 초기 페이지 로딩 대기\n",
    "\n",
    "try:\n",
    "    comment_selector = \".u_cbox_list\"  \n",
    "    comment_area = WebDriverWait(driver, 10).until(\n",
    "        EC.presence_of_element_located((By.CSS_SELECTOR, comment_selector))\n",
    "    )\n",
    "    time.sleep(2) \n",
    "\n",
    "\n",
    "    comment_elements = driver.find_elements(By.CSS_SELECTOR, \".u_cbox_contents\")\n",
    "\n",
    "\n",
    "    if not comment_elements:\n",
    "        print(\"❌ 댓글이 없습니다.\")\n",
    "    else:\n",
    "        print(\"✅ 댓글 수집 결과:\")\n",
    "        for i, comment in enumerate(comment_elements[::], 1):\n",
    "            print(f\"{i}. {comment.text.strip()}\")\n",
    "\n",
    "except Exception as e:\n",
    "    print(\"❌ 오류 발생:\", e)\n",
    "    \n",
    "\n",
    "\n",
    "comments_text = [comment.text.strip() for comment in comment_elements]\n",
    "\n",
    "df = pd.DataFrame({'댓글': comments_text})\n",
    "df.to_csv(\"naver_news_comments.csv\", index=False, encoding=\"utf-8-sig\")\n",
    "\n",
    "print(\"✅ 댓글이 'naver_news_comments.csv'에 저장되었습니다.\")\n",
    "\n",
    "\n",
    "driver.quit()\n",
    "    \n"
   ]
  }
 ],
 "metadata": {
  "kernelspec": {
   "display_name": "Python 3",
   "language": "python",
   "name": "python3"
  },
  "language_info": {
   "codemirror_mode": {
    "name": "ipython",
    "version": 3
   },
   "file_extension": ".py",
   "mimetype": "text/x-python",
   "name": "python",
   "nbconvert_exporter": "python",
   "pygments_lexer": "ipython3",
   "version": "3.12.2"
  }
 },
 "nbformat": 4,
 "nbformat_minor": 5
}
