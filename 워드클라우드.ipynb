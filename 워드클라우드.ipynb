{
 "cells": [
  {
   "cell_type": "code",
   "execution_count": null,
   "id": "1fd600a3",
   "metadata": {},
   "outputs": [],
   "source": [
    "import pandas as pd\n",
    "import matplotlib.pyplot as plt\n",
    "from wordcloud import WordCloud\n",
    "\n",
    "fp = open(\"시나리오.txt\")\n",
    "text = fp.read()\n",
    "\n",
    "text = text.split('\\n')\n",
    "text"
   ]
  },
  {
   "cell_type": "code",
   "execution_count": null,
   "id": "86c8f090",
   "metadata": {},
   "outputs": [],
   "source": [
    "import re\n",
    "pattern = '[가-힣]'\n",
    "target_text = []\n",
    "\n",
    "for line in text:\n",
    "    word = re.match(pattern,line)\n",
    "    if word is not None:\n",
    "        target_text.append(line)\n",
    "\n",
    "target_word = {}\n"
   ]
  },
  {
   "cell_type": "code",
   "execution_count": null,
   "id": "8daf64a4",
   "metadata": {},
   "outputs": [],
   "source": [
    "for line in target_text:\n",
    "    tokens = line.split(' ')\n",
    "    for token in tokens:\n",
    "        if token in target_word:\n",
    "            target_word[token] = target_word[token] + 1\n",
    "        else :\n",
    "            target_word[token] = 1\n",
    "            \n",
    "target_word.items()\n",
    "target_word"
   ]
  },
  {
   "cell_type": "code",
   "execution_count": null,
   "id": "5ec38c6b",
   "metadata": {},
   "outputs": [],
   "source": [
    "wc = WordCloud(font_path= \"c:/Windows/Fonts/malgun.ttf\",\n",
    "               width= 800,\n",
    "               height=800,\n",
    "               background_color=\"white\")\n",
    "\n",
    "img_wordcloud = wc.generate_from_frequencies(target_word)\n",
    "\n",
    "plt.figure(figsize= (10,10))\n",
    "plt.axis('off')\n",
    "plt.imshow(img_wordcloud)\n",
    "plt.show()"
   ]
  },
  {
   "cell_type": "code",
   "execution_count": null,
   "id": "7a1588a2",
   "metadata": {},
   "outputs": [],
   "source": [
    "#2025-05-29 수업\n",
    "import pandas as pd\n",
    "import matplotlib.pyplot as plt\n",
    "from wordcloud import WordCloud\n",
    "import konlpy\n",
    "\n",
    "fp = open(\"시나리오.txt\")\n",
    "text = fp.read()\n",
    "\n",
    "text = text.split('\\n')\n",
    "text[:100]"
   ]
  },
  {
   "cell_type": "code",
   "execution_count": null,
   "id": "3f945b94",
   "metadata": {},
   "outputs": [],
   "source": [
    "import re\n",
    "pattern = '[가-힣]'\n",
    "target_text = []\n",
    "\n",
    "for line in text:\n",
    "    word = re.match(pattern,line)\n",
    "    if word is not None:\n",
    "        target_text.append(line)\n",
    "\n",
    "target_text[:100]\n",
    "            "
   ]
  },
  {
   "cell_type": "code",
   "execution_count": null,
   "id": "693b476d",
   "metadata": {},
   "outputs": [],
   "source": [
    "import konlpy\n",
    "\n",
    "kkma = konlpy.tag.Kkma()\n",
    "df = pd.DataFrame(target_text)\n",
    "nonus = df[0].apply(kkma.nouns)\n",
    "nonus"
   ]
  },
  {
   "cell_type": "code",
   "execution_count": null,
   "id": "10d8f8a4",
   "metadata": {},
   "outputs": [],
   "source": [
    "nonus =nonus.explode()\n",
    "nonus"
   ]
  },
  {
   "cell_type": "code",
   "execution_count": null,
   "id": "2c3ea855",
   "metadata": {},
   "outputs": [],
   "source": [
    "df_word = pd.DataFrame({'word' : nonus})\n",
    "df_word['count'] = df_word['word'].str.len()\n",
    "df_word = df_word.query('count >= 2')\n",
    "df_word.head()"
   ]
  },
  {
   "cell_type": "code",
   "execution_count": null,
   "id": "2629d5a9",
   "metadata": {},
   "outputs": [],
   "source": [
    "plt.rcParams['font.family'] = 'Malgun Gothic'\n",
    "plt.rcParams['axes.unicode_minus'] = False\n",
    "\n",
    "\n",
    "\n",
    "df_top10 = df_word.iloc[:10,:].sort_values('count', ascending=True)\n",
    "df_top10.plot.barh(x='word',y='count')\n",
    "plt.show()"
   ]
  },
  {
   "cell_type": "code",
   "execution_count": null,
   "id": "c8ec309b",
   "metadata": {},
   "outputs": [],
   "source": [
    "dic_word = df_word.set_index('word').to_dict()['count']\n",
    "dic_word"
   ]
  },
  {
   "cell_type": "code",
   "execution_count": null,
   "id": "87f45a9a",
   "metadata": {},
   "outputs": [],
   "source": [
    "wc = WordCloud(random_state=123,\n",
    "               font_path='c:/Windows/Fonts/malgun.ttf',\n",
    "               width=400,\n",
    "               height=400,\n",
    "               background_color='white')\n",
    "\n",
    "img_wordcloud = wc.generate_from_frequencies(dic_word)\n",
    "\n",
    "plt.figure(figsize=(10,10))\n",
    "plt.axis('off')\n",
    "plt.imshow(img_wordcloud)\n",
    "plt.show()"
   ]
  },
  {
   "cell_type": "code",
   "execution_count": null,
   "id": "8f3a32d5",
   "metadata": {},
   "outputs": [],
   "source": [
    "import PIL\n",
    "import PIL.Image\n",
    "import numpy as np\n",
    "\n",
    "icon = PIL.Image.open(\"C:/Users/HomePc/Desktop/mask2.png\").convert(\"RGBA\")\n",
    "img = PIL.Image.new(mode = 'RGBA', size = icon.size,color=(255,255,255))\n",
    "img.paste(icon,icon)\n",
    "img = np.array(img)\n",
    "\n",
    "wc = WordCloud(random_state=123,\n",
    "               font_path='c:/Windows/Fonts/malgun.ttf',\n",
    "               width=400,\n",
    "               height=400,\n",
    "               background_color='white',\n",
    "               mask=img,\n",
    "               colormap='inferno')\n",
    "\n",
    "img_wordcloud = wc.generate_from_frequencies(dic_word)\n",
    "\n",
    "plt.figure(figsize=(10,10))\n",
    "plt.axis('off')\n",
    "plt.imshow(img_wordcloud)\n",
    "plt.show()"
   ]
  }
 ],
 "metadata": {
  "kernelspec": {
   "display_name": "Python 3",
   "language": "python",
   "name": "python3"
  },
  "language_info": {
   "codemirror_mode": {
    "name": "ipython",
    "version": 3
   },
   "file_extension": ".py",
   "mimetype": "text/x-python",
   "name": "python",
   "nbconvert_exporter": "python",
   "pygments_lexer": "ipython3",
   "version": "3.12.2"
  }
 },
 "nbformat": 4,
 "nbformat_minor": 5
}
