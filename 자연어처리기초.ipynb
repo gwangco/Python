{
 "cells": [
  {
   "cell_type": "code",
   "execution_count": null,
   "id": "79b9b717",
   "metadata": {},
   "outputs": [],
   "source": [
    "import nltk\n",
    "from nltk.tokenize import word_tokenize\n",
    "\n",
    "text = \"아 진짜 배고프네 밥 어디 맛있는데 없나\"\n",
    "tokens = word_tokenize(text)\n",
    "print(tokens)"
   ]
  },
  {
   "cell_type": "code",
   "execution_count": null,
   "id": "ea37ed29",
   "metadata": {},
   "outputs": [],
   "source": [
    "from nltk.corpus import stopwords\n",
    "from nltk.tokenize import word_tokenize\n",
    "\n",
    "text = \"This is a simple example to show the stop words removal.\"\n",
    "words = word_tokenize(text)\n",
    "stop_words = set(stopwords.words('English'))\n",
    "filtered_words = [word for word in words if word.lower() not in stop_words]\n",
    "\n",
    "print(\"Original words:\",words)\n",
    "print(\"Filtered words:\",filtered_words)"
   ]
  },
  {
   "cell_type": "code",
   "execution_count": null,
   "id": "a319918a",
   "metadata": {},
   "outputs": [],
   "source": [
    "from konlpy.tag import Okt\n",
    "\n",
    "# Okt 형태소 분석기 객체 생성\n",
    "okt = Okt()\n",
    "\n",
    "text = \"오늘 날씨가 매우 좋아서 기분이 좋다.\"\n",
    "\n",
    "# 형태소 분석 (형태소와 품사 태깅)\n",
    "morphs = okt.pos(text)\n",
    "print(\"형태소 분석 결과:\", morphs)\n",
    "\n",
    "# 명사 추출\n",
    "nouns = okt.nouns(text)\n",
    "print(\"명사 추출 결과:\", nouns)\n",
    "\n",
    "# 어절 단위 토큰화\n",
    "words = okt.morphs(text)\n",
    "print(\"어절 단위 토큰화 결과:\", words)"
   ]
  },
  {
   "cell_type": "code",
   "execution_count": null,
   "id": "9eeea040",
   "metadata": {},
   "outputs": [],
   "source": [
    "from konlpy.tag import Okt\n",
    "\n",
    "okt = Okt()\n",
    "\n",
    "text = \"예쁜 꽃들이 피어서 기분이 좋았다.\"\n",
    "\n",
    "# 기본 품사 태깅\n",
    "morphs_default = okt.pos(text)\n",
    "print(\"기본 품사 태깅:\", morphs_default)\n",
    "\n",
    "# norm=Ture: 문장 정규화 \n",
    "morphs_norm = okt.pos(text, norm=True)\n",
    "print(\"문장 정규화:\", morphs_norm)\n",
    "\n",
    "#stem=True: 어간 추출 \n",
    "morphs_stem = okt.pos(text, stem=True)\n",
    "print(\"어간 추출:\", morphs_stem)\n",
    "\n",
    "# norm=True, stem=True 함께 사용\n",
    "morphs_norm_stem = okt.pos(text, norm=True, stem=True)\n",
    "print(\"정규화 + 어간 추출:,\", morphs_norm_stem)\n",
    "\n"
   ]
  },
  {
   "cell_type": "code",
   "execution_count": null,
   "id": "053890f9",
   "metadata": {},
   "outputs": [],
   "source": [
    "from konlpy.tag import Okt\n",
    "\n",
    "okt = Okt()\n",
    "\n",
    "text = \"하늘이 파랗게 빛나고 새들이 노래한다.\"\n",
    "\n",
    "tagged_words = okt.pos(text)\n",
    "verbs = [word for word, tag in tagged_words if tag.startswith('V')] # 'V'로 시작하는 품사(동사) 추출\n",
    "print(\"추출된 동사:\",verbs)"
   ]
  },
  {
   "cell_type": "code",
   "execution_count": null,
   "id": "c46d634a",
   "metadata": {},
   "outputs": [],
   "source": [
    "from konlpy.tag import Okt\n",
    "\n",
    "okt = Okt()\n",
    "text = \"인공지능 기술은 미래 산업의 핵심 동력이다. 특히 머신러닝과 딥러닝 분야가 주목받고 있다.\"\n",
    "\n",
    "tagged_words = okt.pos(text)\n",
    "print(\"Okt 기본 품사 태깅 결과:\", tagged_words)\n",
    "\n",
    "# 사용자 정의 품사 태그 매핑 규칙 (예시)\n",
    "custom_mapping = {\n",
    "    ('인공지능', 'Noun') : '기술용어',\n",
    "    ('머신러닝', 'Noun') : '기술용어',\n",
    "    ('딥러닝', 'Noun'): '기술용어',\n",
    "    ('핵심', 'Noun') : '중요단어',\n",
    "    ('동력', 'Noun') : '중요단어'\n",
    "}\n",
    "\n",
    "custom_tagged_words = []\n",
    "for word, tag in tagged_words :\n",
    "    if (word, tag) in custom_mapping :\n",
    "        custom_tagged_words.append((word, custom_mapping[(word, tag)]))\n",
    "    else :\n",
    "        custom_tagged_words.append((word, tag))\n",
    "        \n",
    "print(\"사용자 정의 품사 태깅 결과:\", custom_tagged_words)"
   ]
  },
  {
   "cell_type": "code",
   "execution_count": null,
   "id": "12bb4e27",
   "metadata": {},
   "outputs": [],
   "source": [
    "from konlpy.tag import Okt\n",
    "\n",
    "okt = Okt()\n",
    "text = \"이 약물은 혈압을 낮추는 효과가 있습니다.\"\n",
    "\n",
    "# 사용자 정의 사전 (단어: 사용자 정의 품사 태그)\n",
    "custom_dictionary = {\n",
    "    \"약물\": \"의학용어\",\n",
    "    \"혈압\": \"의학용어\",\n",
    "    \"낮추는\": \"효과\",\n",
    "    \"효과\" : \"결과\"\n",
    "}\n",
    "\n",
    "custom_tagged_words = []\n",
    "words = okt.morphs(text) #어절 단위로 먼저 토큰화\n",
    "\n",
    "for word in words :\n",
    "    if word in custom_dictionary:\n",
    "        custom_tagged_words.append((word, custom_dictionary[word]))\n",
    "    else :\n",
    "        # 사전에 없는 단어는 Okt의 기분 품사 태깅 사용 (선택 사항)\n",
    "        default_tag = okt.pos(word, stem=True)[0][1] if okt.pos(word,stem=True) else 'Unknown'\n",
    "        custom_tagged_words.append((word, default_tag))\n",
    "        \n",
    "print(\"사용자 정의 품사 태깅 결과:\", custom_tagged_words)"
   ]
  }
 ],
 "metadata": {
  "kernelspec": {
   "display_name": "Python 3",
   "language": "python",
   "name": "python3"
  },
  "language_info": {
   "codemirror_mode": {
    "name": "ipython",
    "version": 3
   },
   "file_extension": ".py",
   "mimetype": "text/x-python",
   "name": "python",
   "nbconvert_exporter": "python",
   "pygments_lexer": "ipython3",
   "version": "3.12.2"
  }
 },
 "nbformat": 4,
 "nbformat_minor": 5
}
