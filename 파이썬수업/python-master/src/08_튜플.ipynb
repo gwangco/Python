{
 "cells": [
  {
   "cell_type": "markdown",
   "metadata": {},
   "source": [
    "#### 8. 튜플, 세트, 딕셔너리"
   ]
  },
  {
   "cell_type": "markdown",
   "metadata": {},
   "source": [
    "p.270 튜플"
   ]
  },
  {
   "cell_type": "code",
   "execution_count": null,
   "metadata": {},
   "outputs": [],
   "source": [
    "x = (1,2,3)\n",
    "# x.append(77)\n",
    "# x[2] = 99\n",
    "print(x)"
   ]
  },
  {
   "cell_type": "code",
   "execution_count": null,
   "metadata": {},
   "outputs": [],
   "source": [
    "fruits = (\"apple\", \"banana\", \"grape\")\n",
    "\n",
    "# single_tuple = (\"apple\",) \t# 쉼표가 끝에 있어야 한다.\n",
    "# print(single_tuple)\n",
    "\n",
    "# no_tuple = (\"apple\")\t\t# 쉼표가 없으면 튜플이 아니라 수식이 된다.\n",
    "# print(no_tuple)\n",
    "\n",
    "# fruits[1] = \"pear\"   \t\t# 오류 발생\n",
    "\n",
    "for f in fruits:\n",
    "\tprint(f, end=\" \")  \t\t# apple banana grape 출력"
   ]
  },
  {
   "cell_type": "markdown",
   "metadata": {},
   "source": [
    "p271 튜플 <-> 리스트"
   ]
  },
  {
   "cell_type": "code",
   "execution_count": null,
   "metadata": {},
   "outputs": [],
   "source": [
    "myList = [1,2,3,4]\n",
    "myTuple = tuple(myList)   #tuple()는 튜플을 생성하는 함수이다.\n",
    "print(myTuple)\n",
    "\n",
    "myTuple = (1, 2, 3, 4)\n",
    "myList = list(myTuple)\n",
    "print(myList)"
   ]
  },
  {
   "cell_type": "markdown",
   "metadata": {},
   "source": [
    "p272 튜플 연산들 - 추가, 삭제와 같은 수정은 할 수 없다. 그러나 튜플을 합치는 것은 가능하다."
   ]
  },
  {
   "cell_type": "code",
   "execution_count": null,
   "metadata": {},
   "outputs": [],
   "source": [
    "fruits = (\"apple\", \"banana\", \"grape\")\n",
    "fruits += (\"pear\", \"kiwi\")\n",
    "print(fruits)"
   ]
  },
  {
   "cell_type": "markdown",
   "metadata": {},
   "source": [
    "p272 튜플 패킹과 언패킹"
   ]
  },
  {
   "cell_type": "code",
   "execution_count": null,
   "metadata": {},
   "outputs": [],
   "source": [
    "x = (\"apple\", \"banana\", \"grape\")   # 튜플 패킹\n",
    "(s1, s2, s3) = x   # 튜플 언패킹\n",
    "print(s1, s2, s3)"
   ]
  },
  {
   "cell_type": "code",
   "execution_count": null,
   "metadata": {},
   "outputs": [],
   "source": [
    "# 서로 다른 자료형에 대해서도 패킹과 언패킹이 가능\n",
    "\n",
    "student = (\"Kim\" , [3.1, 3.6, 4.0, 0.0])   \n",
    "name, grades = student\n",
    "print(name)\n",
    "print(grades)"
   ]
  },
  {
   "cell_type": "code",
   "execution_count": null,
   "metadata": {},
   "outputs": [],
   "source": [
    "# 데이터 순서 바꾸기에 이용\n",
    "n1 = 10\n",
    "n2 = 90\n",
    "\n",
    "n1,n2 = (n2,n1)\n",
    "\n",
    "print(n1,n2)"
   ]
  },
  {
   "cell_type": "markdown",
   "metadata": {},
   "source": [
    "p274 enumerate() 사용하기"
   ]
  },
  {
   "cell_type": "code",
   "execution_count": null,
   "metadata": {},
   "outputs": [],
   "source": [
    "fruits = [\"apple\",\"banana\",\"grape\"]\n",
    "for index, value in enumerate(fruits):\n",
    "\tprint(index, value)"
   ]
  },
  {
   "cell_type": "code",
   "execution_count": null,
   "metadata": {},
   "outputs": [],
   "source": [
    "fruits = [\"apple\",\"banana\",\"grape\"]\n",
    "result = list(enumerate(fruits))   # enumerate() 결과를 리스트에 담기\n",
    "print(result)"
   ]
  },
  {
   "cell_type": "markdown",
   "metadata": {},
   "source": [
    "튜플의 장점 - 빠르다. 변경하는 것을 금지한다."
   ]
  },
  {
   "cell_type": "markdown",
   "metadata": {},
   "source": [
    "p275 세트 - 순서가 없고 중복이 없다."
   ]
  },
  {
   "cell_type": "markdown",
   "metadata": {},
   "source": [
    "p.276 세트 생성하기"
   ]
  },
  {
   "cell_type": "code",
   "execution_count": null,
   "metadata": {},
   "outputs": [],
   "source": [
    "# 직접 생성\n",
    "numbers = {1, 2, 3}\n",
    "\n",
    "# 리스트로 부터 세트 생성. set() 함수 사용\n",
    "numbers = set([1,2,3,1,2,3])  \n",
    "print(numbers)\n",
    "\n",
    "# 문자열로 부터 세트 생성\n",
    "letters = set(\"abc\")\n",
    "print(letters)\n",
    "\n",
    "# 비어있는 세트 생성\n",
    "numbers = set()\n",
    "print(numbers)"
   ]
  },
  {
   "cell_type": "markdown",
   "metadata": {},
   "source": [
    "p.276 세트의 연산"
   ]
  },
  {
   "cell_type": "code",
   "execution_count": 2,
   "metadata": {},
   "outputs": [],
   "source": [
    "fruits ={\"apple\",\"banana\",\"grape\"}\n",
    "size =len(fruits)\t\t\t# size는 3이 된다. "
   ]
  },
  {
   "cell_type": "code",
   "execution_count": null,
   "metadata": {},
   "outputs": [],
   "source": [
    "fruits = { \"apple\", \"banana\", \"grape\" }\n",
    "if \"apple\" in fruits:\n",
    "\tprint(\"집합 안에 apple이 있습니다.\")"
   ]
  },
  {
   "cell_type": "code",
   "execution_count": null,
   "metadata": {},
   "outputs": [],
   "source": [
    "fruits ={\"apple\",\"banana\",\"grape\"}\n",
    "for x in fruits:\n",
    "\tprint(x, end=\" \")   # 입력 순서와 출력 순서가 다를 수 있다."
   ]
  },
  {
   "cell_type": "code",
   "execution_count": null,
   "metadata": {},
   "outputs": [],
   "source": [
    "fruits ={\"apple\",\"banana\",\"grape\"}\n",
    "for x in sorted(fruits):    # 정렬된 순서로 출력\n",
    "\tprint(x, end=\" \") "
   ]
  },
  {
   "cell_type": "markdown",
   "metadata": {},
   "source": [
    "p277 요소 추가하고 삭제하기"
   ]
  },
  {
   "cell_type": "code",
   "execution_count": null,
   "metadata": {},
   "outputs": [],
   "source": [
    "# 1\n",
    "fruits ={\"apple\",\"banana\",\"grape\"}\n",
    "fruits.add(\"kiwi\")\n",
    "print(fruits)\n",
    "\n",
    "# 2\n",
    "fruits ={\"apple\",\"banana\",\"grape\", \"kiwi\"}\n",
    "fruits.remove(\"kiwi\")\n",
    "print(fruits)\n",
    "\n",
    "# 3\n",
    "fruits ={\"apple\",\"banana\",\"grape\",\"kiwi\"}\n",
    "fruits.clear()\t\t# 공백 세트가 된다. \n",
    "print(fruits)"
   ]
  },
  {
   "cell_type": "markdown",
   "metadata": {},
   "source": [
    "p.278 세트 함축 연산"
   ]
  },
  {
   "cell_type": "code",
   "execution_count": null,
   "metadata": {},
   "outputs": [],
   "source": [
    "aList  =[1,2,3,4,5,1,2 ]\n",
    "result ={ x for x in aList if x%2==0 }\n",
    "print(result)"
   ]
  },
  {
   "cell_type": "markdown",
   "metadata": {},
   "source": [
    "p.278 부분 집합 연산"
   ]
  },
  {
   "cell_type": "code",
   "execution_count": null,
   "metadata": {},
   "outputs": [],
   "source": [
    "A ={\"apple\",\"banana\",\"grape\"}\n",
    "B ={\"apple\",\"banana\",\"grape\",\"kiwi\"}\n",
    "\n",
    "if A < B : \t\t\t# 또는 A.issubset(B) :\n",
    "\tprint(\"A는 B의 부분 집합입니다.\")  "
   ]
  },
  {
   "cell_type": "code",
   "execution_count": null,
   "metadata": {},
   "outputs": [],
   "source": [
    "# 같은지 검사\n",
    "A ={\"apple\",\"banana\",\"grape\"}\n",
    "B ={\"apple\",\"banana\",\"grape\",\"kiwi\"}\n",
    "\n",
    "if A == B : \n",
    "\tprint(\"A와 B는 같습니다.\")\n",
    "else :\n",
    "    print(\"A와 B는 같지 않습니다.\")"
   ]
  },
  {
   "cell_type": "markdown",
   "metadata": {},
   "source": [
    "p.279 교집합, 합집합, 차집합"
   ]
  },
  {
   "cell_type": "code",
   "execution_count": null,
   "metadata": {},
   "outputs": [],
   "source": [
    "A ={\"apple\",\"banana\",\"grape\"}\n",
    "B ={\"apple\",\"banana\",\"kiwi\"}\n",
    "\n",
    "C = A | B     # 또는 C = A.union(B)\n",
    "print(C)\n",
    "\n",
    "C = A & B     # 또는 C = A.intersection(B)\n",
    "print(C)\n",
    "\n",
    "C = A - B     # 또는 C = A.diffeence(B)\n",
    "print(C)"
   ]
  },
  {
   "cell_type": "markdown",
   "metadata": {},
   "source": [
    "p.280 리스트 <-> 세트"
   ]
  },
  {
   "cell_type": "markdown",
   "metadata": {},
   "source": [
    "list1 = [1,2,3,4,5,1,2,4]\n",
    "print(set(list1))\n",
    "print(len(set(list1)))\t\t# 서로 다른 정수의 갯수를 구할 수 있다."
   ]
  },
  {
   "cell_type": "code",
   "execution_count": null,
   "metadata": {},
   "outputs": [],
   "source": [
    "# 두개의 리스트에 공통으로 있는 숫자 찾기\n",
    "list1 = [1,2,3,4,5]\n",
    "list2 = [3,4,5,6,7]\n",
    "print(set(list1) & set(list2))"
   ]
  },
  {
   "cell_type": "markdown",
   "metadata": {},
   "source": [
    "(추가) 세트는 순서관계가 없다. 따라서 세트를 정렬하면 결과는 리스트로 바뀐다."
   ]
  },
  {
   "cell_type": "code",
   "execution_count": null,
   "metadata": {},
   "outputs": [],
   "source": [
    "A = {3, 5, 1, 6, 2}\n",
    "print(sorted(A))"
   ]
  },
  {
   "cell_type": "markdown",
   "metadata": {},
   "source": [
    "p.282 Lab. 간단한 표절 검사 프로그램"
   ]
  },
  {
   "cell_type": "code",
   "execution_count": null,
   "metadata": {},
   "outputs": [],
   "source": [
    "# 과제물 표절 판별\n",
    "\n",
    "a = input(\"과제물 1의 내용을 입력:\")      # 오늘은 어제보다 더운 여름이다.\n",
    "al = a.split(\" \")\n",
    "print(al)\n",
    "\n",
    "\n",
    "b = input(\"과제물 2의 내용을 입력:\")      # 오늘은 더운 여름이다. 많이\n",
    "bl = b.split(\" \")\n",
    "print(bl)\n",
    "\n",
    "print(len(set(al) & set(bl)) / len(al))\n",
    "\n"
   ]
  },
  {
   "cell_type": "code",
   "execution_count": null,
   "metadata": {},
   "outputs": [],
   "source": [
    "s1=input(\"첫 번째 문자열:\")\n",
    "s2=input(\"두 번째 문자열:\")\n",
    "\n",
    "s1 = s1.lower()\t\t# 문자열을 소문자로 만드는 메소드, 9장 참조\n",
    "s2 = s2.lower()\n",
    "list1 = s1.split(\" \")\t\t# 문자열을 단어로 분리하는 메소드, 9장 참조\n",
    "list2 = s2.split(\" \")\n",
    "\n",
    "total = len(list1)\t\t# 단어의 개수\n",
    "n = len(list(set(list1)&set(list2)))\t# 세트 교집합으로 공통 단어 개수 계산\n",
    "\n",
    "print(f\"\\n표절률 = {100*n/total}\")\n",
    "print(\"공통되는 문장 :\", list(set(list1)&set(list2)))"
   ]
  },
  {
   "cell_type": "markdown",
   "metadata": {},
   "source": [
    "p.283 Lab. 중복되지 않은 단어의 개수 세기"
   ]
  },
  {
   "cell_type": "code",
   "execution_count": null,
   "metadata": {},
   "outputs": [],
   "source": [
    "txt = input(\"입력 텍스트: \")\n",
    "words = txt.split(\" \")\n",
    "unique = set(words)\t\t\t# 집합으로 만들면 자동적으로 중복을 제거한다. \n",
    "\n",
    "print(\"사용된 단어의 개수= \", len(unique))\n",
    "print(unique)"
   ]
  },
  {
   "cell_type": "code",
   "execution_count": null,
   "metadata": {},
   "outputs": [],
   "source": [
    "#퀴즈\n",
    "\n",
    "d1 = ['김밥','라면','비빔밥','김밥','라면']\n",
    "d2 = ['라면','라면','김밥','라면']\n",
    "d3 = ['라면','비빔밥','김밥','김밥','돈까스','라면']\n",
    "\n",
    "a1 = set(d1)\n",
    "a2 = set(d2)\n",
    "a3 = set(d3)\n",
    "\n",
    "# 3일동안 팔린 메뉴 전체\n",
    "print(a1|a2|a3)\n",
    "\n",
    "\n",
    "# 3일 내내 팔린 메뉴\n",
    "print(a1 & a2 & a3)\n",
    "\n",
    "\n",
    "\n",
    "#셋째날만 팔린 메뉴\n",
    "print(a3-a1-a2)\n",
    "\n",
    "\n",
    "#가장 많이 팔린 날\n",
    "\n",
    "x = [len(d1),len(d2),len(d3)]\n",
    "\n",
    "print(x.index(max(x)) + 1)\n",
    "    \n",
    "    \n"
   ]
  },
  {
   "cell_type": "markdown",
   "metadata": {},
   "source": [
    "p.284 딕셔너리"
   ]
  },
  {
   "cell_type": "code",
   "execution_count": null,
   "metadata": {},
   "outputs": [],
   "source": [
    "x = {27 : 27, 28 : 29, 29 : 29, 30 : 27}\n",
    "print(x[30])"
   ]
  },
  {
   "cell_type": "markdown",
   "metadata": {},
   "source": [
    "p.285 항목 탐색하기"
   ]
  },
  {
   "cell_type": "code",
   "execution_count": null,
   "metadata": {},
   "outputs": [],
   "source": [
    "capitals = { \"Korea\": \"Seoul\" , \"USA\": \"Washington\", \"UK\": \"London\" } \n",
    "\n",
    "print(capitals[\"Korea\"])\n",
    "\n",
    "# print(capitals[\"France\"])   #에러 발생\n",
    "\n",
    "print(capitals.get(\"France\", \"해당 키가 없습니다.\"))   # get()을 쓰면 에러 방지할 수 있다.\n",
    "\n",
    "if \"France\" in capitals :    # 키가 있는지 확인하는 방법\n",
    "\tprint( \"딕셔너리에 포함됨\" )\n",
    "else: \n",
    "\tprint( \"딕셔너리에 포함되지 않음\" )"
   ]
  },
  {
   "cell_type": "markdown",
   "metadata": {},
   "source": [
    "p.286 항목 추가하기"
   ]
  },
  {
   "cell_type": "code",
   "execution_count": null,
   "metadata": {},
   "outputs": [],
   "source": [
    "# 1. 가장 간편한 것\n",
    "capitals ={\"Korea\":\"Seoul\",\"USA\":\"Washington\",\"UK\":\"London\"} \n",
    "capitals[\"France\"] = \"Paris\"\n",
    "print(capitals)"
   ]
  },
  {
   "cell_type": "code",
   "execution_count": null,
   "metadata": {},
   "outputs": [],
   "source": [
    "# 2. 공백 딕셔너리를 생성하고 하나씩 추가해도 된다.\n",
    "capitals = {}\n",
    "capitals[\"Korea\"] = \"Seoul\"\n",
    "capitals[\"USA\"] = \"Wasington\"\n",
    "capitals[\"UK\"] = \"London\"\n",
    "capitals[\"France\"] = \"Paris\"\n",
    "print(capitals)"
   ]
  },
  {
   "cell_type": "code",
   "execution_count": null,
   "metadata": {},
   "outputs": [],
   "source": [
    "# 3. 딕셔너리에 다른 딕셔너리를 추가하려면 update()를 사용\n",
    "capitals ={\"Korea\":\"Seoul\",\"USA\":\"Washington\",\"UK\":\"London\"} \n",
    "capitals.update({\"France\":\"Paris\", \"Germany\":\"Berlin\"})\n",
    "print(capitals)"
   ]
  },
  {
   "cell_type": "markdown",
   "metadata": {},
   "source": [
    "p.287 항목 삭제하기"
   ]
  },
  {
   "cell_type": "code",
   "execution_count": null,
   "metadata": {},
   "outputs": [],
   "source": [
    "# pop() 메서드 사용\n",
    "capitals ={\"Korea\":\"Seoul\",\"USA\":\"Washington\",\"UK\":\"London\"} \n",
    "city = capitals.pop(\"UK\")\n",
    "print(capitals)"
   ]
  },
  {
   "cell_type": "code",
   "execution_count": null,
   "metadata": {},
   "outputs": [],
   "source": [
    "# 키가 있는지 먼저 검사하면 없는 키 삭제할 때 에러 방지\n",
    "capitals ={\"Korea\":\"Seoul\",\"USA\":\"Washington\",\"UK\":\"London\"} \n",
    "if \"UK\"in capitals :\n",
    "\tcapitals.pop(\"UK\")\n",
    "print(capitals)"
   ]
  },
  {
   "cell_type": "code",
   "execution_count": null,
   "metadata": {},
   "outputs": [],
   "source": [
    "# 모두 삭제. clear()\n",
    "capitals ={\"Korea\":\"Seoul\",\"USA\":\"Washington\",\"UK\":\"London\"} \n",
    "capitals.clear()\n",
    "if len(capitals)==0 :\n",
    "\tprint(\"딕셔너리가 비어 있음\")\n",
    "else:\n",
    "\tprint(\"딕셔너리가 비어 있지 않음\")"
   ]
  },
  {
   "cell_type": "markdown",
   "metadata": {},
   "source": [
    "p.287 항목 방문하기"
   ]
  },
  {
   "cell_type": "code",
   "execution_count": null,
   "metadata": {},
   "outputs": [],
   "source": [
    "capitals ={\"Korea\":\"Seoul\",\"USA\":\"Washington\",\"UK\":\"London\"} \n",
    "for key in capitals :\n",
    "        print( key, end=\" \")\n",
    "print(\"\\n\")"
   ]
  },
  {
   "cell_type": "code",
   "execution_count": null,
   "metadata": {},
   "outputs": [],
   "source": [
    "capitals ={\"Korea\":\"Seoul\",\"USA\":\"Washington\",\"UK\":\"London\"} \n",
    "for key in capitals :\n",
    "        print( key,\":\", capitals[key])\n",
    "print()"
   ]
  },
  {
   "cell_type": "code",
   "execution_count": null,
   "metadata": {},
   "outputs": [],
   "source": [
    "capitals ={\"Korea\":\"Seoul\",\"USA\":\"Washington\",\"UK\":\"London\"} \n",
    "for key, value in capitals.items() :\n",
    "        print( key,\":\", value)       \n",
    "print()"
   ]
  },
  {
   "cell_type": "code",
   "execution_count": null,
   "metadata": {},
   "outputs": [],
   "source": [
    "capitals ={\"Korea\":\"Seoul\",\"USA\":\"Washington\",\"UK\":\"London\"} \n",
    "print(capitals.keys())\n",
    "print(capitals.values())\n",
    "print()"
   ]
  },
  {
   "cell_type": "code",
   "execution_count": null,
   "metadata": {},
   "outputs": [],
   "source": [
    "capitals ={\"Korea\":\"Seoul\",\"USA\":\"Washington\",\"UK\":\"London\"} \n",
    "for key in sorted(capitals.keys()):\n",
    "    print(key, end=\" \")\n",
    "print()"
   ]
  },
  {
   "cell_type": "markdown",
   "metadata": {},
   "source": [
    "p.288 딕셔너리 함축"
   ]
  },
  {
   "cell_type": "code",
   "execution_count": null,
   "metadata": {},
   "outputs": [],
   "source": [
    "values =[1,2,3,4,5,6] \n",
    "\n",
    "dic ={ x : x**2 for x in values if x%2==0 }\n",
    "print(dic)"
   ]
  },
  {
   "cell_type": "markdown",
   "metadata": {},
   "source": [
    "p.290 Lab. 영한사전"
   ]
  },
  {
   "cell_type": "code",
   "execution_count": null,
   "metadata": {},
   "outputs": [],
   "source": [
    "english_dict ={}\t\t\t# 공백 딕셔너리를 생성한다. \n",
    "\n",
    "english_dict[\"one\"]=\"하나\"\t# 딕셔너리에 단어와 의미를 추가한다. \n",
    "english_dict[\"two\"]=\"둘'\"\t\t\n",
    "english_dict[\"three\"]=\"셋\"\t\t\n",
    "\n",
    "word =input(\"단어를 입력하시오: \")\n",
    "print (english_dict[word])"
   ]
  },
  {
   "cell_type": "markdown",
   "metadata": {},
   "source": [
    "p.291 Lab. 학생 성적 처리"
   ]
  },
  {
   "cell_type": "code",
   "execution_count": null,
   "metadata": {},
   "outputs": [],
   "source": [
    "score_dic = {}\n",
    "\n",
    "while True:\n",
    "    name = input(\"이름 : \")\n",
    "    score = list(map(int, input(\"점수: \").split()))  # 공백으로 구분하며 연속 입력\n",
    "    score_dic[name] = score\n",
    "    ans = input(\"다음 입력을 또 있습니까?(y/n)\")\n",
    "    if ans == \"n\" :\n",
    "        break\n",
    "\n",
    "print(score_dic)\n",
    "\n",
    "for name, score in score_dic.items():\n",
    "    print(name, \"의 평균 성적 = \", sum(score)/len(score))"
   ]
  },
  {
   "cell_type": "code",
   "execution_count": null,
   "metadata": {},
   "outputs": [],
   "source": [
    "# 메뉴판1\n",
    "menu = {}\n",
    "\n",
    "def menu_add() :\n",
    "    \n",
    "    while True:\n",
    "        x = input(\"메뉴명:\")\n",
    "        y = int(input(\"가격:\"))\n",
    "        menu[x] = y \n",
    "        print(menu)\n",
    "        z = input(\"계속 입력?\")\n",
    "        if z == \"n\" :\n",
    "            break\n",
    "    \n",
    "def menu_find():\n",
    "    a = input(\"검색할 메뉴?\")\n",
    "    print(menu[a])\n",
    "    \n",
    "while True :\n",
    "    choice = (input(\"원하는 작업:1-메뉴등록,2-가격메뉴찾기, 그외는-종료\"))\n",
    "    if choice == '1' :\n",
    "        menu_add()\n",
    "    elif choice == '2' :\n",
    "        menu_find()\n",
    "    else :\n",
    "        break\n"
   ]
  },
  {
   "cell_type": "markdown",
   "metadata": {},
   "source": [
    "p.294 연습문제"
   ]
  },
  {
   "cell_type": "code",
   "execution_count": null,
   "metadata": {},
   "outputs": [],
   "source": [
    "# 13번 문제\n",
    "\n",
    "student = {1:{\"name\":\"kim\",\"age\":\"21\",\"gender\":\"Female\"},\n",
    "           2:{\"name\":\"park\",\"age\":\"20\",\"gender\":\"male\"}}\n",
    "\n",
    "print(student[1][\"age\"])"
   ]
  },
  {
   "cell_type": "markdown",
   "metadata": {},
   "source": [
    "p.298 Programming"
   ]
  },
  {
   "cell_type": "code",
   "execution_count": null,
   "metadata": {},
   "outputs": [],
   "source": [
    "# 2번 문제\n",
    "\n",
    "x = [80,20,20,30,60,30]\n",
    "y = []\n",
    "\n",
    "print(sorted(set(x)))\n",
    "\n",
    "# for i in x :\n",
    "#     if i not in y :\n",
    "#         y.append(i)\n",
    "        \n",
    "# print(sorted(y))\n"
   ]
  },
  {
   "cell_type": "code",
   "execution_count": null,
   "metadata": {},
   "outputs": [],
   "source": [
    "# 3번 문제\n",
    "x = {i : i*i for i in range(1,11)}\n",
    "\n",
    "\n",
    "\n",
    "# for i in range(1,11) :\n",
    "#     x[i] = i*i\n",
    "    \n",
    "print(x)"
   ]
  },
  {
   "cell_type": "code",
   "execution_count": null,
   "metadata": {},
   "outputs": [],
   "source": [
    "# 4번 문제\n",
    "\n",
    "d = {\"Apple\" : 1,\"Banana\":2,\"Grape\":3}\n",
    "\n",
    "for i,j in d.items():\n",
    "    print(i,\"->\",j)\n",
    "    \n",
    "    \n",
    "    \n",
    "# for i in d :\n",
    "#     print(i,\"->\",d[i])"
   ]
  },
  {
   "cell_type": "code",
   "execution_count": null,
   "metadata": {},
   "outputs": [],
   "source": [
    "# 6번 문제\n",
    "\n",
    "d = {1:10, 2:20, 3:30, 4:40, 5:50, 6:60}\n",
    "x = int(input(\"키를 입력 :\"))\n",
    "\n",
    "if x in d :\n",
    "    print(f\"{x}가 딕셔너리에 있다\")\n",
    "else :\n",
    "    print(\"없다\")"
   ]
  },
  {
   "cell_type": "code",
   "execution_count": null,
   "metadata": {},
   "outputs": [],
   "source": [
    "# 7번 문제\n",
    "\n",
    "myDict = {\"옷\":100,\"컴퓨터\":2000,\"모니터\":320}\n",
    "# print(myDict.keys())\n",
    "print(sum(myDict.values()))\n",
    "\n",
    "\n",
    "# s = 0\n",
    "# for i,j in myDict.items() :\n",
    "#     s = s + j\n",
    "    \n",
    "# print(s)"
   ]
  },
  {
   "cell_type": "code",
   "execution_count": null,
   "metadata": {},
   "outputs": [],
   "source": [
    "# 9번 문제\n",
    "\n",
    "x = input(\"문장 입력 :\")\n",
    "x = x.split()\n",
    "print(x)\n",
    "\n",
    "\n",
    "cnt = {}\n",
    "for i in x :\n",
    "    if i in cnt:\n",
    "        cnt[i] = cnt[i] + 1\n",
    "    else :\n",
    "        cnt[i] = 1\n",
    "\n",
    "print(cnt)\n",
    "    "
   ]
  },
  {
   "cell_type": "code",
   "execution_count": null,
   "metadata": {},
   "outputs": [],
   "source": [
    "# 퀴즈\n",
    "x = {\"a\": \"대구\", \"b\": \"서울\", \"c\": \"대구\", \"d\": \"부산\", \"e\": \"부산\"}\n",
    "\n",
    "# 이름을 입력받아 고향 출력\n",
    "na = input(\"이름을 입력: \")\n",
    "\n",
    "\n",
    "if na in x:\n",
    "    print(x[na])\n",
    "else:\n",
    "    print(\"없다\")\n",
    "\n",
    "\n",
    "co = input(\"고향을 입력: \")\n",
    "find = 0\n",
    "# 입력한 고향을 가진 사람(들)을 출력 , 없으면 없다라고 출력\n",
    "for i,j in x.items() :\n",
    "    if co == j :\n",
    "        print(i)\n",
    "        find = 1\n",
    "        \n",
    "if find == 0 :\n",
    "    print(\"없다\")\n",
    "        \n",
    "    \n",
    "\n",
    "\n"
   ]
  },
  {
   "cell_type": "code",
   "execution_count": null,
   "metadata": {},
   "outputs": [],
   "source": [
    "menu = {\"아아\": 2000, \"라떼\": 3000, \"밀크티\": 4000, \"아이스티\": 5000}\n",
    "\n",
    "# 금액을 입력받아 구입할 수 있는 메뉴 출력\n",
    "money = int(input(\"금액을 입력하시오\"))\n",
    "find = 0\n",
    "\n",
    "for i,j in menu.items() :\n",
    "    if money >= j :\n",
    "        print(i)\n",
    "        find = 1\n",
    "if find == 0 :\n",
    "    print(\"없다\")\n",
    "\n",
    "\n",
    "# 메뉴를 입력받아 해당 메뉴로 교환할 수 있는 메뉴 출력\n",
    "menu1 = input(\"메뉴를 입력하세요: \")\n",
    "\n",
    "if menu1 in menu:\n",
    "    find = 0\n",
    "    coupon = menu[menu1]\n",
    "    \n",
    "    for i, j in menu.items():\n",
    "        if j <= coupon and i != menu1:  # 해당 메뉴 가격보다 작거나 같은 메뉴 출력\n",
    "            print(i)\n",
    "            find = 1\n",
    "    \n",
    "    if find == 0: \n",
    "        print(\"교환할 수 있는 메뉴가 없습니다.\")\n",
    "else:\n",
    "    print(\"해당 메뉴가 없습니다.\")\n",
    "\n",
    "\n"
   ]
  },
  {
   "cell_type": "code",
   "execution_count": null,
   "metadata": {},
   "outputs": [],
   "source": [
    "# 퀴즈\n",
    "\n",
    "menu = {\"라면\" : [10,20,30],\"김밥\":[10,40],\"돈까스\":{5,10,20,10}}\n",
    "\n",
    "# 1.각 메뉴별 평균 판매량을 출력\n",
    "# 라면 -> 20\n",
    "# 김밥 -> 30\n",
    "\n",
    "for i,j in menu.items():\n",
    "    print(i,\"->\",sum(j)/len(j))\n",
    "    \n",
    "\n",
    "\n",
    "# 2. 가장 많이 판매한 메뉴를 출력\n",
    "menu_max = 0\n",
    "for i,j in menu.items() :\n",
    "    if menu_max < sum(j) :\n",
    "        menu_max = sum(j) \n",
    "        menu_name = i \n",
    "        \n",
    "print(menu_name,menu_max)\n",
    "    \n",
    "    \n",
    "\n",
    "\n",
    "# 3. 최대 판매량을 가진 메뉴를 출력\n",
    "menu_top = 0\n",
    "for i,j in menu.items() :\n",
    "    if menu_top < max(j) :\n",
    "        menu_top = max(j)\n",
    "        top_name = i\n",
    "        \n",
    "print(top_name,menu_top)"
   ]
  }
 ],
 "metadata": {
  "kernelspec": {
   "display_name": "Python 3",
   "language": "python",
   "name": "python3"
  },
  "language_info": {
   "codemirror_mode": {
    "name": "ipython",
    "version": 3
   },
   "file_extension": ".py",
   "mimetype": "text/x-python",
   "name": "python",
   "nbconvert_exporter": "python",
   "pygments_lexer": "ipython3",
   "version": "3.12.2"
  },
  "orig_nbformat": 4
 },
 "nbformat": 4,
 "nbformat_minor": 2
}
