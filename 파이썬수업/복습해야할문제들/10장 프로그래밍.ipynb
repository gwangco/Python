{
 "cells": [
  {
   "cell_type": "code",
   "execution_count": null,
   "metadata": {},
   "outputs": [],
   "source": [
    "#프로그래밍 1번\n",
    "f = open(\"input.txt\",\"w\")\n",
    "f.write(\"All's well that ends well.\\nBad news travels fast.\\nWell begun is half done.\")\n",
    "f.close()"
   ]
  },
  {
   "cell_type": "code",
   "execution_count": null,
   "metadata": {},
   "outputs": [],
   "source": [
    "#프로그래밍 1번\n",
    "f = open(\"input.txt\",\"r\")\n",
    "longw = \"\"\n",
    "for i in f :\n",
    "    words = i.split()\n",
    "    for word in words:\n",
    "        if len(word) > len(longw):\n",
    "            longw = word\n",
    "f.close()\n",
    "\n",
    "print(\"가장 긴 단어: \",longw)"
   ]
  },
  {
   "cell_type": "code",
   "execution_count": null,
   "metadata": {},
   "outputs": [],
   "source": [
    "#프로그래밍 2번\n",
    "x = input(\"파일 이름을 입력하시오 : \")\n",
    "f = open(x, \"r\", encoding=\"utf-8\")\n",
    "s = f.readlines()\n",
    "\n",
    "line_number = int(input(\"행 번호를 입력하시오 : \"))\n",
    "\n",
    "if 1 <= line_number <= len(s):\n",
    "    line = s[line_number - 1].strip()  # 입력한 줄 번호에 해당하는 줄 읽기\n",
    "    print(f\"{line_number}번 행은 {line}입니다.\")\n",
    "else:\n",
    "    print(f\"{line_number}번째 줄은 존재하지 않습니다.\")\n",
    "\n",
    "f.close()\n"
   ]
  },
  {
   "cell_type": "code",
   "execution_count": null,
   "metadata": {},
   "outputs": [],
   "source": [
    "#프로그래밍 6번\n",
    "x = input(\"입력 파일 이름: \")\n",
    "\n",
    "try:\n",
    "    f = open(x, \"r\", encoding=\"utf-8\")\n",
    "    s = f.read()\n",
    "    print(s)\n",
    "    f.close()\n",
    "except FileNotFoundError:\n",
    "    print(\"파일이 없습니다. 다시 입력하세요.\")\n"
   ]
  },
  {
   "cell_type": "code",
   "execution_count": null,
   "metadata": {},
   "outputs": [],
   "source": [
    "#프로그래밍 8번\n",
    "x = input(\"파일 이름을 입력하시오 : \")\n",
    "\n",
    "f = open(x,\"r\")\n",
    "s = f.read()\n",
    "f.close()\n",
    "\n",
    "y = input(\"삭제할 문자열을 입력하시오 : \")\n",
    "\n",
    "de = s.replace(y,\"\")\n",
    "\n",
    "output = open(x,\"w\")\n",
    "output.write(de)\n",
    "print(\"변경된 파일이 저장되었습니다.\")\n",
    "output.close()"
   ]
  },
  {
   "cell_type": "code",
   "execution_count": null,
   "metadata": {},
   "outputs": [],
   "source": [
    "#프로그래밍 9번번\n",
    "f = open(\"input.txt\",\"r\")\n",
    "s = f.read()\n",
    "space_count = s.count(\" \")\n",
    "tab_count = s.count(\"\\t\")\n",
    "print(f\"스페이스 수 = {space_count}, 탭의 수 = {tab_count}\")\n",
    "f.close()"
   ]
  },
  {
   "cell_type": "code",
   "execution_count": null,
   "metadata": {},
   "outputs": [],
   "source": [
    "f = open(\"input.txt\",\"r\")\n",
    "s = f.readlines()\n",
    "f.close()\n",
    "\n",
    "num = []\n",
    "\n",
    "for i, j in enumerate(s,start=1):\n",
    "    num.append(f\"{i} : {j}\")\n",
    "\n",
    "output = open(\"input.txt\",\"w\")\n",
    "output.writelines(num)\n",
    "output.close()"
   ]
  },
  {
   "cell_type": "code",
   "execution_count": null,
   "metadata": {},
   "outputs": [],
   "source": [
    "#프로그래밍 10번\n",
    "f = open(\"input.txt\",\"r\")\n",
    "s = f.read()\n",
    "f.close()\n",
    "\n",
    "count = {}\n",
    "\n",
    "for char in s :\n",
    "    if char in count :\n",
    "        count[char] += 1\n",
    "    else :\n",
    "        count[char] = 1\n",
    "        \n",
    "print(count)"
   ]
  },
  {
   "cell_type": "code",
   "execution_count": null,
   "metadata": {},
   "outputs": [],
   "source": [
    "#프로그래밍 11번\n",
    "f = open(\"input.txt\",\"r\")\n",
    "s = f.read()\n",
    "f.close()\n",
    "\n",
    "count = {}\n",
    "\n",
    "for char in s :\n",
    "    if char in count :\n",
    "        count[char] += 1\n",
    "    else :\n",
    "        count[char] = 1\n",
    "        \n",
    "for i, j in count.items():\n",
    "    print(f\"{i} : {j}\")"
   ]
  }
 ],
 "metadata": {
  "kernelspec": {
   "display_name": "Python 3",
   "language": "python",
   "name": "python3"
  },
  "language_info": {
   "codemirror_mode": {
    "name": "ipython",
    "version": 3
   },
   "file_extension": ".py",
   "mimetype": "text/x-python",
   "name": "python",
   "nbconvert_exporter": "python",
   "pygments_lexer": "ipython3",
   "version": "3.12.2"
  }
 },
 "nbformat": 4,
 "nbformat_minor": 2
}
