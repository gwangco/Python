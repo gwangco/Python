{
 "cells": [
  {
   "cell_type": "code",
   "execution_count": null,
   "metadata": {},
   "outputs": [],
   "source": [
    "# 퀴즈\n",
    "x = {\"a\": \"대구\", \"b\": \"서울\", \"c\": \"대구\", \"d\": \"부산\", \"e\": \"부산\"}\n",
    "\n",
    "# 이름을 입력받아 고향 출력\n",
    "\n",
    "\n",
    "\n",
    "# 입력한 고향을 가진 사람(들)을 출력 , 없으면 없다라고 출력\n",
    "\n"
   ]
  },
  {
   "cell_type": "code",
   "execution_count": null,
   "metadata": {},
   "outputs": [],
   "source": [
    "menu = {\"아아\": 2000, \"라떼\": 3000, \"밀크티\": 4000, \"아이스티\": 5000}\n",
    "\n",
    "# 금액을 입력받아 구입할 수 있는 메뉴 출력\n",
    "\n",
    "\n",
    "# 메뉴를 입력받아 해당 메뉴로 교환할 수 있는 메뉴 출력\n",
    "\n",
    "\n"
   ]
  },
  {
   "cell_type": "code",
   "execution_count": 38,
   "metadata": {},
   "outputs": [
    {
     "name": "stdout",
     "output_type": "stream",
     "text": [
      "라면 -> 20\n",
      "김밥 -> 25\n",
      "돈까스 -> 11\n",
      "라면 60\n",
      "김밥 40\n"
     ]
    }
   ],
   "source": [
    "menu = {\"라면\" : [10,20,30],\"김밥\":[10,40],\"돈까스\":{5,10,20,10}}\n",
    "\n",
    "# 1.각 메뉴별 평균 판매량을 출력\n",
    "# 라면 -> 20\n",
    "# 김밥 -> 30\n",
    "\n",
    "\n",
    "\n",
    "# 2. 가장 많이 판매한 메뉴를 출력\n",
    "\n",
    "\n",
    "# 3. 최대 판매량을 가진 메뉴를 출력\n",
    "\n"
   ]
  }
 ],
 "metadata": {
  "kernelspec": {
   "display_name": "Python 3",
   "language": "python",
   "name": "python3"
  },
  "language_info": {
   "codemirror_mode": {
    "name": "ipython",
    "version": 3
   },
   "file_extension": ".py",
   "mimetype": "text/x-python",
   "name": "python",
   "nbconvert_exporter": "python",
   "pygments_lexer": "ipython3",
   "version": "3.12.2"
  }
 },
 "nbformat": 4,
 "nbformat_minor": 2
}
