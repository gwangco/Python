{
 "cells": [
  {
   "cell_type": "code",
   "execution_count": null,
   "metadata": {},
   "outputs": [],
   "source": [
    "import os\n",
    "print(os.getcwd())"
   ]
  },
  {
   "cell_type": "code",
   "execution_count": null,
   "metadata": {},
   "outputs": [],
   "source": [
    "import os\n",
    "os.chdir(\"C:\\Temp\")"
   ]
  },
  {
   "cell_type": "code",
   "execution_count": null,
   "metadata": {},
   "outputs": [],
   "source": [
    "import os\n",
    "print(os.listdir())"
   ]
  },
  {
   "cell_type": "code",
   "execution_count": null,
   "metadata": {},
   "outputs": [],
   "source": [
    "import os\n",
    "os.mkdir(\"myreport\")"
   ]
  },
  {
   "cell_type": "code",
   "execution_count": null,
   "metadata": {},
   "outputs": [],
   "source": [
    "import os\n",
    "os.chdir(\"myreport\")"
   ]
  },
  {
   "cell_type": "code",
   "execution_count": null,
   "metadata": {},
   "outputs": [],
   "source": [
    "x = int(input(\"수를 입력 : \"))\n",
    "x = x + 10\n",
    "print(x)\n",
    "\n",
    "\n",
    "\n",
    "f = open(\"C:\\\\Temp\\\\arogjrj\\\\add.txt\", \"w\")   # 파일 사용을 선언. 쓰기 목적으로 생성.\n",
    "\n",
    "f.write(str(x))          # 파일에 사용되는 자료형은 문자열\n",
    "f.close()    # 파일 사용을 종료\n",
    "\n",
    "\n",
    "\n"
   ]
  },
  {
   "cell_type": "code",
   "execution_count": null,
   "metadata": {},
   "outputs": [],
   "source": [
    "m = input(\"좋아하는 메뉴 : \")\n",
    "print(m)\n",
    "\n",
    "f = open(\"menu.txt\", \"a\", encoding=\"utf-8\")\n",
    "f.write(m + \"\\n\")\n",
    "\n",
    "\n",
    "\n",
    "f.close()"
   ]
  },
  {
   "cell_type": "code",
   "execution_count": null,
   "metadata": {},
   "outputs": [],
   "source": [
    "f = open(\"menu.txt\" , \"r\", encoding=\"utf-8\")\n",
    "# result = f.read()   # 파일에 있는 모든 내용을 한꺼번에 읽는다\n",
    "\n",
    "\n",
    "while True :\n",
    "    result = f.readline() # 한줄만 읽기\n",
    "    if result == \"\" :\n",
    "        break\n",
    "    else :\n",
    "        print(result.strip())\n",
    "\n",
    "f.close()"
   ]
  },
  {
   "cell_type": "code",
   "execution_count": null,
   "metadata": {},
   "outputs": [],
   "source": [
    "f = open(\"menu.txt\" , \"r\", encoding=\"utf-8\")\n",
    "\n",
    "result = f.readlines()   # 모두 읽기. 리스트 생성\n",
    "\n",
    "for i in result :\n",
    "    print(i.strip())\n",
    "    \n",
    "    \n",
    "# print(result)\n",
    "\n",
    "f.close()"
   ]
  },
  {
   "cell_type": "code",
   "execution_count": null,
   "metadata": {},
   "outputs": [],
   "source": [
    "# 당일 매출 기록부\n",
    "m = input(\"메뉴명 : \")\n",
    "n = input(\"판매갯수 : \")\n",
    "p = input(\"단가 : \")\n",
    "\n",
    "f = open(\"sales.txt\", \"a\", encoding=\"utf-8\")\n",
    "s = \"-\".join([m,str(n),str(p)]) \n",
    "f.write(s + \"\\n\")\n",
    "\n",
    "\n",
    "\n",
    "f.close()"
   ]
  },
  {
   "cell_type": "code",
   "execution_count": null,
   "metadata": {},
   "outputs": [],
   "source": [
    "# 판매실적 출력\n",
    "f = open(\"sales.txt\",\"r\", encoding=\"utf-8\")\n",
    "result = f.readlines()\n",
    "total = 0\n",
    "for i in result:\n",
    "    li = i.strip().split(\"-\")\n",
    "    price = int(li[1]) * int(li[2])\n",
    "    print(f\"메뉴 : {li[0]} ,판매액 : {price}\")\n",
    "    total += price\n",
    "    \n",
    "print(\"총 판매액 :\",total)\n",
    "f.close()\n",
    "    \n"
   ]
  },
  {
   "cell_type": "code",
   "execution_count": null,
   "metadata": {},
   "outputs": [],
   "source": [
    "# 퀴즈 - 1부터 1000까지 3의 배수를 찾아서 파일에 저장\n",
    "f = open(\"me.txt\", \"w\")\n",
    "\n",
    "for i in range(1,1001):\n",
    "    if i % 3 == 0:\n",
    "        f.write(str(i) + \"\\n\")\n",
    "\n",
    "f.close()"
   ]
  },
  {
   "cell_type": "code",
   "execution_count": null,
   "metadata": {},
   "outputs": [],
   "source": [
    "# 퀴즈 - 읽은 데이터들 중에서 5의 배수만 출력, 총갯수를 출력\n",
    "\n",
    "f = open(\"me.txt\", \"r\")\n",
    "\n",
    "result = f.readlines()\n",
    "total = 0\n",
    "for i in result:\n",
    "    num = int(i.strip())\n",
    "    if num % 5 == 0:\n",
    "        print(num)\n",
    "        total += 1\n",
    "\n",
    "print(\"합계 :\", total)\n",
    "\n",
    "f.close()\n"
   ]
  },
  {
   "cell_type": "code",
   "execution_count": null,
   "metadata": {},
   "outputs": [],
   "source": [
    "# 퀴즈 - 5의배수의 * 붙혀서 불러오고 파일을 새로 만들기\n",
    "\n",
    "f = open(\"txq.txt\", \"r\")\n",
    "output = open(\"tta.txt\", \"w\")\n",
    "s = f.readlines()\n",
    "for i in s :\n",
    "    if int(i) % 5 == 0 :\n",
    "        print(i.strip() + \"*\")\n",
    "        output.write(i.strip()+\"*\"+\"\\n\")\n",
    "    else :\n",
    "        print(i.strip())\n",
    "        output.write(i.strip()+\"\\n\")\n",
    "        \n",
    "\n",
    "f.close()\n",
    "output.close()\n",
    "\n"
   ]
  }
 ],
 "metadata": {
  "kernelspec": {
   "display_name": "Python 3",
   "language": "python",
   "name": "python3"
  },
  "language_info": {
   "codemirror_mode": {
    "name": "ipython",
    "version": 3
   },
   "file_extension": ".py",
   "mimetype": "text/x-python",
   "name": "python",
   "nbconvert_exporter": "python",
   "pygments_lexer": "ipython3",
   "version": "3.12.2"
  }
 },
 "nbformat": 4,
 "nbformat_minor": 2
}
