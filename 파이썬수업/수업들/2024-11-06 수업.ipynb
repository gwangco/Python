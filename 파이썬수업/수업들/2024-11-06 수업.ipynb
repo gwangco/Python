{
 "cells": [
  {
   "cell_type": "code",
   "execution_count": null,
   "metadata": {},
   "outputs": [],
   "source": [
    "import os\n",
    "print(os.getcwd())"
   ]
  },
  {
   "cell_type": "code",
   "execution_count": null,
   "metadata": {},
   "outputs": [],
   "source": [
    "import os\n",
    "os.chdir(\"C:/f06\")"
   ]
  },
  {
   "cell_type": "code",
   "execution_count": null,
   "metadata": {},
   "outputs": [],
   "source": [
    "# 로또 처리\n",
    "import random\n",
    "f = open(\"lotta.txt\", \"w\")\n",
    "n = [ i for i in range(1,46)]\n",
    "\n",
    "\n",
    "for _ in range(5) :\n",
    "    lotto = random.sample(n, 6)\n",
    "    print(lotto)\n",
    "    for i in lotto :\n",
    "        f.write(str(i) + \" \")\n",
    "    f.write(\"\\n\")\n",
    "    \n",
    "f.close()\n"
   ]
  },
  {
   "cell_type": "code",
   "execution_count": null,
   "metadata": {},
   "outputs": [],
   "source": [
    "# 로또 당첨 결과 \n",
    "lotto_1 = [1,2,3,4,5,6]\n",
    "\n",
    "f = open(\"lotta.txt\",\"r\")\n",
    "r = f.readlines()\n",
    "print(r)\n",
    "for i in r :\n",
    "    i = i.strip().split(\" \")\n",
    "    print(i)\n",
    "    cnt = 0\n",
    "    for j in lotto_1 :\n",
    "        if str(j) in i :\n",
    "           cnt = cnt + 1\n",
    "    print(cnt)\n",
    "f.close()\n"
   ]
  },
  {
   "cell_type": "code",
   "execution_count": null,
   "metadata": {},
   "outputs": [],
   "source": [
    "import csv\n",
    "\n",
    "f = open(\"menu.csv\", encoding=\"utf-8\")\n",
    "r = csv.reader(f)\n",
    "x = next(r)\n",
    "\n",
    "print(r)\n",
    "for i in r :\n",
    "    print(i[0],int(i[1]) * int(i[2]),\"원\")\n",
    "\n",
    "\n",
    "f.close()"
   ]
  },
  {
   "cell_type": "code",
   "execution_count": null,
   "metadata": {},
   "outputs": [],
   "source": [
    "import os\n",
    "os.chdir(\"C:/Users/HomePc/Desktop/파이썬_김광재/python-master/src/10_data\")\n",
    "print(os.getcwd())"
   ]
  },
  {
   "cell_type": "code",
   "execution_count": null,
   "metadata": {},
   "outputs": [],
   "source": [
    "import csv\n",
    "\n",
    "f = open('weather.csv')\n",
    "r = csv.reader(f)\n",
    "x = next(r)\n",
    "min = 999\n",
    "d = \"\"\n",
    "for i in r :\n",
    "    if float(i[3]) < min :\n",
    "        min = float(i[3])\n",
    "        d = i[0]\n",
    "print(d,min)\n",
    "f.close()"
   ]
  },
  {
   "cell_type": "code",
   "execution_count": null,
   "metadata": {},
   "outputs": [],
   "source": [
    "\n",
    "menu = dict()\n",
    "\n",
    "while True :\n",
    "    m = input(\"메뉴 : \")\n",
    "    if m == \"x\" :\n",
    "        break\n",
    "    c = input(\"수량 : \")\n",
    "    menu[m] = c\n",
    "print(menu)\n",
    "\n",
    "import pickle\n",
    "f = open(\"myrest.dict\", \"wb\")\n",
    "pickle.dump(menu, f)\n",
    "f.close()"
   ]
  },
  {
   "cell_type": "code",
   "execution_count": null,
   "metadata": {},
   "outputs": [],
   "source": [
    "f = open(\"myrest.dict\", \"rb\")\n",
    "import pickle\n",
    "r = pickle.load(f)\n",
    "print(r)\n",
    "f.close()"
   ]
  },
  {
   "cell_type": "code",
   "execution_count": null,
   "metadata": {},
   "outputs": [],
   "source": [
    "# 프로그래밍 3번 문제\n",
    "for i in range(97,123):\n",
    "    f = open(chr(i)+\".txt\", \"w\")\n",
    "    f.write(\"wektopwekptokweopt\")\n",
    "    f.close()\n"
   ]
  },
  {
   "cell_type": "code",
   "execution_count": null,
   "metadata": {},
   "outputs": [],
   "source": [
    "# 프로그래밍 4번 문제\n",
    "f = open(\"qqq.txt\", \"r\")\n",
    "r = f.readlines()\n",
    "f.close()\n",
    "print(r)\n",
    "cnt = 0\n",
    "new_r = []\n",
    "for i in r :\n",
    "    cnt += 1\n",
    "    if cnt == 3 :\n",
    "        new_r.append(\"line 2-1\\n\")\n",
    "    new_r.append(i) \n",
    "        \n",
    "f = open(\"qqq.txt\", \"w\")\n",
    "for i in new_r:\n",
    "    f.write(i)\n",
    "f.close()\n"
   ]
  }
 ],
 "metadata": {
  "kernelspec": {
   "display_name": "Python 3",
   "language": "python",
   "name": "python3"
  },
  "language_info": {
   "codemirror_mode": {
    "name": "ipython",
    "version": 3
   },
   "file_extension": ".py",
   "mimetype": "text/x-python",
   "name": "python",
   "nbconvert_exporter": "python",
   "pygments_lexer": "ipython3",
   "version": "3.12.2"
  }
 },
 "nbformat": 4,
 "nbformat_minor": 2
}
