{
 "cells": [
  {
   "cell_type": "code",
   "execution_count": null,
   "metadata": {},
   "outputs": [],
   "source": [
    "class iamBank :\n",
    "    def __init__(self, m = 0) :  # initialize 초기화. 생성자.\n",
    "        self.__money = m    # 데이터(속성)를 생성\n",
    "        \n",
    "    def input_money(self, x) :    # 함수(메서드(method))의 기능을 정의\n",
    "        self.__money = self.__money + x\n",
    "    \n",
    "    def output_money(self, x) :\n",
    "        self.__money = self.__money - x \n",
    "    \n",
    "    def view_money(self) :\n",
    "        return self.__money  \n",
    "    \n",
    "\n",
    "b1 = iamBank()   #  객체로 생성 -> 인스턴스(instance) \n",
    "b1.input_money(5000)\n",
    "print(b1.view_money())\n",
    "\n",
    "\n",
    "b2 = iamBank(500)\n",
    "b2.input_money(10000)\n",
    "print(b2.view_money())"
   ]
  },
  {
   "cell_type": "code",
   "execution_count": null,
   "metadata": {},
   "outputs": [],
   "source": [
    "class circle :\n",
    "    def __init__(self, r=5, b=2):   # 데이터(속성) 생성자\n",
    "        self.radius = r\n",
    "        self.line_width = b\n",
    "    \n",
    "    def find_area(self): # 면적구하기. 메서드\n",
    "        return (3.14 * self.radius * self.radius)\n",
    "    \n",
    "    def find_perimeter(self): # 둘레 구하기. 메서드\n",
    "        return (2 * 3.14 * self.radius)\n",
    "    \n",
    "c1 = circle(10, 5) # 객체\n",
    "print(c1.find_area())\n",
    "\n",
    "c2 = circle(100, 10)\n",
    "print(c2.find_area())\n",
    "\n",
    "  "
   ]
  },
  {
   "cell_type": "code",
   "execution_count": null,
   "metadata": {},
   "outputs": [],
   "source": [
    "# 퀴즈\n",
    "\n",
    "class rect :\n",
    "    def __init__(self,q1x=10,q1y=10,q2x=30,q2y=30):\n",
    "        self.p1x = q1x\n",
    "        self.p1y = q1y\n",
    "        self.p2x = q2x\n",
    "        self.p2y = q2y\n",
    "    \n",
    "    def find_area(self) :  # 사각형 면적\n",
    "       return (self.p2x - self.p1x) * (self.p2y - self.p1y)\n",
    "    \n",
    "    def find_perimeter(self):    #사각형 둘레\n",
    "        return ((self.p2x - self.p1x) * 2) + ((self.p2y - self.p1y) * 2)\n",
    "    \n",
    "r1 = rect(5,5,10,40)\n",
    "print(r1.find_area())\n",
    "\n",
    "r2 = rect(20,20,60,30)\n",
    "print(r2.find_perimeter())"
   ]
  }
 ],
 "metadata": {
  "kernelspec": {
   "display_name": "Python 3",
   "language": "python",
   "name": "python3"
  },
  "language_info": {
   "codemirror_mode": {
    "name": "ipython",
    "version": 3
   },
   "file_extension": ".py",
   "mimetype": "text/x-python",
   "name": "python",
   "nbconvert_exporter": "python",
   "pygments_lexer": "ipython3",
   "version": "3.12.2"
  }
 },
 "nbformat": 4,
 "nbformat_minor": 2
}
